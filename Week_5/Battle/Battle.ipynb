{
 "cells": [
  {
   "cell_type": "markdown",
   "id": "fefcca71",
   "metadata": {},
   "source": [
    "# Chess Battle lol"
   ]
  },
  {
   "cell_type": "markdown",
   "id": "ab391d88",
   "metadata": {},
   "source": [
    "## Yuvraj vs Balaji"
   ]
  },
  {
   "cell_type": "code",
   "execution_count": null,
   "id": "1f5069b8",
   "metadata": {},
   "outputs": [],
   "source": [
    "from my_chess_engine import Engine\n",
    "from ihatebajaj import alpha_beta_pruning\n",
    "import chess\n",
    "from IPython.display import display, clear_output\n",
    "import time"
   ]
  },
  {
   "cell_type": "code",
   "execution_count": null,
   "id": "15e12a11",
   "metadata": {},
   "outputs": [],
   "source": [
    "\n",
    "engine = Engine()\n",
    "Movenumber=1\n",
    "pgnstr=\"\"\n",
    "display(chess.Board())\n",
    "whitetime=[]\n",
    "blacktime=[]\n",
    "while not engine.board.is_game_over():\n",
    "    \n",
    "    \n",
    "    start=time.time()\n",
    "    move=engine.get_move(3)[1]\n",
    "    t1=time.time()-start\n",
    "    whitetime.append(t1)\n",
    "    sanmove=engine.board.san(chess.Move.from_uci(str(move)))\n",
    "    pgnstr+=str(Movenumber)+\". \"+str(sanmove)+\" \"\n",
    "    engine.make_move(move)\n",
    "    clear_output(wait=True)\n",
    "    display(engine.board)\n",
    "    print(pgnstr)\n",
    "    print(\"Time taken for last move:\",t1)\n",
    "    if engine.board.is_game_over():\n",
    "        break\n",
    "    start=time.time()\n",
    "    sanmove2=alpha_beta_pruning(engine.board, -10**5, 10**5, 3, False)[1]\n",
    "    t2=time.time()-start\n",
    "    blacktime.append(t2)\n",
    "    pgnstr+=sanmove2+' '\n",
    "    engine.board.push_san(sanmove2)\n",
    "    engine.hash = engine.get_hash()\n",
    "    clear_output(wait=True)\n",
    "    display(engine.board)\n",
    "    print(pgnstr)\n",
    "    print(\"Time taken for last move:\",t2)\n",
    "    Movenumber+=1\n",
    "print(pgnstr)\n",
    "print(\"White time:\",sum(whitetime))    \n",
    "print(\"Black time:\",sum(blacktime))\n",
    "    "
   ]
  },
  {
   "cell_type": "code",
   "execution_count": null,
   "id": "174184d6",
   "metadata": {},
   "outputs": [],
   "source": [
    "\n",
    "engine = Engine()\n",
    "Movenumber=1\n",
    "pgnstr=\"\"\n",
    "display(chess.Board())\n",
    "whitetime=[]\n",
    "blacktime=[]\n",
    "while not engine.board.is_game_over():\n",
    "    start=time.time()\n",
    "    sanmove=alpha_beta_pruning(engine.board, -10**5, 10**5, 2, True)[1]\n",
    "    t1=time.time()-start\n",
    "    whitetime.append(t1)\n",
    "    \n",
    "    move = engine.board.parse_san(sanmove)\n",
    "    pgnstr+=str(Movenumber)+\". \"+str(sanmove)+\" \"\n",
    "    \n",
    "    engine.make_move(move)\n",
    "    clear_output(wait=True)\n",
    "    display(engine.board)\n",
    "    print(pgnstr)\n",
    "    print(\"Time taken for last move:\",t1)\n",
    "    if engine.board.is_game_over():\n",
    "        break\n",
    "    start=time.time()\n",
    "    sanmove2=alpha_beta_pruning(engine.board, -10**5, 10**5, 2, False)[1]\n",
    "    t2=time.time()-start\n",
    "    blacktime.append(t2)\n",
    "    pgnstr+=sanmove2+' '\n",
    "    engine.board.push_san(sanmove2)\n",
    "    engine.hash = engine.get_hash()\n",
    "    clear_output(wait=True)\n",
    "    display(engine.board)\n",
    "    print(pgnstr)\n",
    "    print(\"Time taken for last move:\",t2)\n",
    "    Movenumber+=1\n",
    "print(pgnstr)\n",
    "print(\"White time:\",sum(whitetime))    \n",
    "print(\"Black time:\",sum(blacktime))\n",
    "    "
   ]
  }
 ],
 "metadata": {
  "kernelspec": {
   "display_name": "Python 3 (ipykernel)",
   "language": "python",
   "name": "python3"
  },
  "language_info": {
   "codemirror_mode": {
    "name": "ipython",
    "version": 3
   },
   "file_extension": ".py",
   "mimetype": "text/x-python",
   "name": "python",
   "nbconvert_exporter": "python",
   "pygments_lexer": "ipython3",
   "version": "3.10.12"
  }
 },
 "nbformat": 4,
 "nbformat_minor": 5
}
